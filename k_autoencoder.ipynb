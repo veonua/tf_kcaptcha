{
 "cells": [
  {
   "cell_type": "code",
   "execution_count": 1,
   "metadata": {
    "collapsed": false
   },
   "outputs": [
    {
     "data": {
      "application/javascript": [
       "Jupyter.utils.load_extensions('tdb_ext/main')"
      ],
      "text/plain": [
       "<IPython.core.display.Javascript object>"
      ]
     },
     "metadata": {},
     "output_type": "display_data"
    }
   ],
   "source": [
    "%%javascript\n",
    "Jupyter.utils.load_extensions('tdb_ext/main')"
   ]
  },
  {
   "cell_type": "code",
   "execution_count": 2,
   "metadata": {
    "collapsed": false
   },
   "outputs": [],
   "source": [
    "import numpy as np\n",
    "import tdb\n",
    "from tdb.examples import viz\n",
    "import matplotlib.pyplot as plt\n",
    "import tensorflow as tf\n",
    "import urllib\n",
    "import os\n",
    "import itertools\n",
    "from IPython.display import Image, display"
   ]
  },
  {
   "cell_type": "code",
   "execution_count": 7,
   "metadata": {
    "collapsed": true
   },
   "outputs": [],
   "source": [
    "def viz_activations(ctx, m):\n",
    "    plt.imshow(np.reshape(m, (-1, PATCH_SIDE)).T, cmap=plt.cm.gray)        \n",
    "    \n",
    "def viz_weights(ctx, m):\n",
    "    plt.title(\"weights\")    \n",
    "    s = int(np.ceil(np.sqrt(m.shape[0])))\n",
    "    viz.viz_square(np.reshape(m, (s,s,-1)).T, normalize=False)    "
   ]
  },
  {
   "cell_type": "code",
   "execution_count": 3,
   "metadata": {
    "collapsed": false
   },
   "outputs": [],
   "source": [
    "filename = \"/home/veon/temp/kcaptcha/generate/*.png\"\n",
    "filename_queue = tf.train.string_input_producer(tf.train.match_filenames_once(filename), shuffle=True)\n",
    "\n",
    "reader = tf.WholeFileReader()\n",
    "key, value = reader.read(filename_queue)\n",
    "\n",
    "img = tf.image.decode_png(value, channels=1)\n",
    "img = tf.cast(img, tf.float32) /255.0\n",
    "#split to patches\n",
    "batch_size = 12\n",
    "\n",
    "PATCH_SIDE = 14;\n",
    "n_input = PATCH_SIDE*PATCH_SIDE\n",
    "\n",
    "ksizes_ = [1, PATCH_SIDE, PATCH_SIDE, 1]\n",
    "strides_ = [1, 7, 7, 1]\n",
    "v_strides_ = [1, PATCH_SIDE, PATCH_SIDE, 1]\n",
    "rates_ = [1, 1, 1, 1]\n",
    "\n",
    "#input = tf.expand_dims(img, 0)\n",
    "img.set_shape([60, 100, 1])\n",
    "input = tf.train.batch([img], batch_size=batch_size\n",
    "                                    #,num_threads=1\n",
    "                                    )\n",
    "\n",
    "train  = tf.extract_image_patches(input, padding='VALID', ksizes=ksizes_, strides=strides_, rates= rates_)\n",
    "valid  = tf.extract_image_patches(input, padding='VALID', ksizes=ksizes_, strides=v_strides_, rates= rates_)\n",
    "\n",
    "#min_after_dequeue = 100\n",
    "#capacity = min_after_dequeue + 3 * batch_size\n",
    "#split = tf.train.shuffle_batch(\n",
    "#      [split], batch_size=batch_size, capacity=capacity,\n",
    "#      min_after_dequeue=min_after_dequeue)"
   ]
  },
  {
   "cell_type": "code",
   "execution_count": 4,
   "metadata": {
    "collapsed": true
   },
   "outputs": [],
   "source": [
    "# Parameters\n",
    "learning_rate = 0.01\n",
    "training_epochs = 20\n",
    "display_step = 1\n",
    "examples_to_show = 10\n",
    "\n",
    "# Network Parameters\n",
    "n_hidden_1 = 256 # 1st layer num features\n",
    "n_hidden_2 = 128 # 2nd layer num features\n",
    "\n",
    "SEED = 66478  # Set to None for random seed.\n",
    "# tf Graph input (only pictures)\n",
    "X = tf.placeholder(\"float\", [None, n_input])\n",
    "\n",
    "#weights = {\n",
    "encoder_h1 = tf.Variable(tf.truncated_normal([n_input, n_hidden_1],stddev=0.1,seed=SEED))\n",
    "encoder_h2 = tf.Variable(tf.truncated_normal([n_hidden_1, n_hidden_2],stddev=0.1,seed=SEED))\n",
    "decoder_h1 = tf.Variable(tf.truncated_normal([n_hidden_2, n_hidden_1],stddev=0.1,seed=SEED))\n",
    "decoder_h2 = tf.Variable(tf.truncated_normal([n_hidden_1, n_input],stddev=0.1,seed=SEED))\n",
    "#}\n",
    "#biases = {\n",
    "encoder_b1 = tf.Variable(tf.constant(0.1, shape=[n_hidden_1]))\n",
    "encoder_b2 = tf.Variable(tf.constant(0.1, shape=[n_hidden_2]))\n",
    "decoder_b1 = tf.Variable(tf.constant(0.1, shape=[n_hidden_1]))\n",
    "decoder_b2 = tf.Variable(tf.constant(0.1, shape=[n_input]))\n",
    "#}"
   ]
  },
  {
   "cell_type": "code",
   "execution_count": 5,
   "metadata": {
    "collapsed": false
   },
   "outputs": [],
   "source": [
    "# Building the encoder\n",
    "def encoder(x):\n",
    "    # Encoder Hidden layer with sigmoid activation #1\n",
    "    layer_1 = tf.nn.sigmoid(tf.add(tf.matmul(x, encoder_h1),\n",
    "                                   encoder_b1))\n",
    "    # Decoder Hidden layer with sigmoid activation #2\n",
    "    layer_2 = tf.nn.sigmoid(tf.add(tf.matmul(layer_1, encoder_h2),\n",
    "                                   encoder_b2))\n",
    "    return layer_2\n",
    "\n",
    "\n",
    "# Building the decoder\n",
    "def decoder(x):\n",
    "    # Encoder Hidden layer with sigmoid activation #1\n",
    "    layer_1 = tf.nn.sigmoid(tf.add(tf.matmul(x, decoder_h1),\n",
    "                                   decoder_b1))\n",
    "    # Decoder Hidden layer with sigmoid activation #2\n",
    "    layer_2 = tf.nn.sigmoid(tf.add(tf.matmul(layer_1, decoder_h2),\n",
    "                                   decoder_b2))\n",
    "    return layer_2\n",
    "\n",
    "# Construct model\n",
    "encoder_op = encoder(X)\n",
    "decoder_op = decoder(encoder_op)\n",
    "\n",
    "# Construct model\n",
    "encoder_op = encoder(X)\n",
    "decoder_op = decoder(encoder_op)"
   ]
  },
  {
   "cell_type": "code",
   "execution_count": 6,
   "metadata": {
    "collapsed": false
   },
   "outputs": [],
   "source": [
    "# Prediction\n",
    "y_pred = decoder_op\n",
    "# Targets (Labels) are the input data.\n",
    "y_true = X\n",
    "\n",
    "# Define loss and optimizer, minimize the squared error\n",
    "loss = tf.reduce_mean(tf.square(y_true - y_pred))\n",
    "optimizer = tf.train.RMSPropOptimizer(learning_rate).minimize(loss)\n",
    "\n",
    "# Initializing the variables\n",
    "init = tf.initialize_all_variables()"
   ]
  },
  {
   "cell_type": "code",
   "execution_count": 8,
   "metadata": {
    "collapsed": false
   },
   "outputs": [],
   "source": [
    "# debug plots\n",
    "p0=tdb.plot_op(viz_activations,inputs=[X])\n",
    "py_pred = tdb.plot_op(viz_activations,inputs=[y_pred])\n",
    "ploss=tdb.plot_op(viz.watch_loss,inputs=[loss])\n",
    "g=tf.get_default_graph()\n",
    "p1=tdb.plot_op(viz_weights,inputs=[g.as_graph_element(encoder_h1)])\n"
   ]
  },
  {
   "cell_type": "code",
   "execution_count": 9,
   "metadata": {
    "collapsed": false
   },
   "outputs": [
    {
     "name": "stdout",
     "output_type": "stream",
     "text": [
      "loss: 0.045522\n",
      "loss: 0.033099\n",
      "loss: 0.023963\n",
      "loss: 0.021996\n",
      "loss: 0.017339\n",
      "loss: 0.017342\n",
      "loss: 0.011881\n",
      "loss: 0.013792\n",
      "loss: 0.010705\n",
      "loss: 0.011110\n",
      "loss: 0.011845\n",
      "loss: 0.011355\n",
      "loss: 0.007747\n",
      "loss: 0.009166\n",
      "loss: 0.007947\n",
      "loss: 0.008290\n",
      "loss: 0.012617\n",
      "loss: 0.008053\n",
      "loss: 0.007998\n",
      "loss: 0.007564\n",
      "loss: 0.006998\n",
      "loss: 0.006121\n",
      "loss: 0.007500\n",
      "loss: 0.005799\n",
      "loss: 0.006176\n",
      "loss: 0.007025\n",
      "loss: 0.005048\n",
      "loss: 0.006404\n",
      "loss: 0.006822\n",
      "loss: 0.010609\n",
      "loss: 0.005985\n",
      "loss: 0.006793\n",
      "loss: 0.005828\n",
      "loss: 0.006587\n",
      "loss: 0.004914\n",
      "loss: 0.006409\n",
      "loss: 0.005385\n",
      "loss: 0.005969\n",
      "loss: 0.005169\n",
      "loss: 0.004942\n",
      "loss: 0.004320\n",
      "loss: 0.004508\n",
      "loss: 0.008287\n",
      "loss: 0.004057\n",
      "loss: 0.009261\n",
      "loss: 0.004399\n",
      "loss: 0.005355\n",
      "loss: 0.004394\n",
      "loss: 0.004941\n",
      "loss: 0.004613\n",
      "loss: 0.004209\n",
      "loss: 0.003914\n",
      "loss: 0.004626\n",
      "loss: 0.003859\n",
      "loss: 0.004775\n",
      "loss: 0.005616\n",
      "loss: 0.007001\n",
      "loss: 0.004186\n",
      "loss: 0.004323\n",
      "loss: 0.003935\n",
      "loss: 0.004188\n",
      "loss: 0.003846\n",
      "loss: 0.004431\n",
      "loss: 0.006279\n",
      "loss: 0.004312\n",
      "loss: 0.004315\n",
      "loss: 0.003288\n",
      "loss: 0.003932\n",
      "loss: 0.003545\n",
      "loss: 0.003651\n",
      "loss: 0.003234\n",
      "loss: 0.003893\n",
      "loss: 0.003505\n",
      "loss: 0.004316\n",
      "loss: 0.004074\n",
      "loss: 0.003106\n",
      "loss: 0.003642\n",
      "loss: 0.003908\n",
      "loss: 0.004670\n",
      "loss: 0.003420\n",
      "loss: 0.003797\n",
      "loss: 0.003681\n",
      "loss: 0.005213\n",
      "loss: 0.003966\n",
      "loss: 0.003236\n",
      "loss: 0.004567\n",
      "loss: 0.003120\n",
      "loss: 0.003487\n",
      "loss: 0.004757\n",
      "loss: 0.003882\n",
      "loss: 0.003914\n",
      "loss: 0.003557\n",
      "loss: 0.005387\n",
      "loss: 0.004637\n",
      "loss: 0.005409\n",
      "loss: 0.003688\n",
      "loss: 0.004846\n",
      "loss: 0.003435\n",
      "loss: 0.002817\n",
      "loss: 0.003822\n",
      "loss: 0.003675\n",
      "loss: 0.005568\n",
      "loss: 0.004032\n",
      "loss: 0.003365\n",
      "loss: 0.003415\n",
      "loss: 0.003130\n"
     ]
    },
    {
     "ename": "KeyboardInterrupt",
     "evalue": "",
     "output_type": "error",
     "traceback": [
      "\u001b[0;31m---------------------------------------------------------------------------\u001b[0m",
      "\u001b[0;31mKeyboardInterrupt\u001b[0m                         Traceback (most recent call last)",
      "\u001b[0;32m<ipython-input-9-ef00ef096079>\u001b[0m in \u001b[0;36m<module>\u001b[0;34m()\u001b[0m\n\u001b[1;32m     16\u001b[0m             \u001b[0msplt\u001b[0m \u001b[0;34m=\u001b[0m \u001b[0mfetch_data\u001b[0m\u001b[0;34m(\u001b[0m\u001b[0msess\u001b[0m\u001b[0;34m,\u001b[0m \u001b[0mtrain\u001b[0m\u001b[0;34m)\u001b[0m\u001b[0;34m\u001b[0m\u001b[0m\n\u001b[1;32m     17\u001b[0m             \u001b[0;31m#print splt[0]\u001b[0m\u001b[0;34m\u001b[0m\u001b[0;34m\u001b[0m\u001b[0m\n\u001b[0;32m---> 18\u001b[0;31m             \u001b[0m_\u001b[0m \u001b[0;34m=\u001b[0m \u001b[0msess\u001b[0m\u001b[0;34m.\u001b[0m\u001b[0mrun\u001b[0m\u001b[0;34m(\u001b[0m\u001b[0;34m[\u001b[0m\u001b[0moptimizer\u001b[0m\u001b[0;34m]\u001b[0m\u001b[0;34m,\u001b[0m \u001b[0mfeed_dict\u001b[0m\u001b[0;34m=\u001b[0m\u001b[0;34m{\u001b[0m\u001b[0mX\u001b[0m\u001b[0;34m:\u001b[0m \u001b[0msplt\u001b[0m\u001b[0;34m}\u001b[0m\u001b[0;34m)\u001b[0m\u001b[0;34m\u001b[0m\u001b[0m\n\u001b[0m\u001b[1;32m     19\u001b[0m \u001b[0;34m\u001b[0m\u001b[0m\n\u001b[1;32m     20\u001b[0m         \u001b[0;31m# Display logs per epoch step\u001b[0m\u001b[0;34m\u001b[0m\u001b[0;34m\u001b[0m\u001b[0m\n",
      "\u001b[0;32m/usr/local/lib/python2.7/dist-packages/tensorflow/python/client/session.pyc\u001b[0m in \u001b[0;36mrun\u001b[0;34m(self, fetches, feed_dict, options, run_metadata)\u001b[0m\n\u001b[1;32m    708\u001b[0m     \u001b[0;32mtry\u001b[0m\u001b[0;34m:\u001b[0m\u001b[0;34m\u001b[0m\u001b[0m\n\u001b[1;32m    709\u001b[0m       result = self._run(None, fetches, feed_dict, options_ptr,\n\u001b[0;32m--> 710\u001b[0;31m                          run_metadata_ptr)\n\u001b[0m\u001b[1;32m    711\u001b[0m       \u001b[0;32mif\u001b[0m \u001b[0mrun_metadata\u001b[0m\u001b[0;34m:\u001b[0m\u001b[0;34m\u001b[0m\u001b[0m\n\u001b[1;32m    712\u001b[0m         \u001b[0mproto_data\u001b[0m \u001b[0;34m=\u001b[0m \u001b[0mtf_session\u001b[0m\u001b[0;34m.\u001b[0m\u001b[0mTF_GetBuffer\u001b[0m\u001b[0;34m(\u001b[0m\u001b[0mrun_metadata_ptr\u001b[0m\u001b[0;34m)\u001b[0m\u001b[0;34m\u001b[0m\u001b[0m\n",
      "\u001b[0;32m/usr/local/lib/python2.7/dist-packages/tensorflow/python/client/session.pyc\u001b[0m in \u001b[0;36m_run\u001b[0;34m(self, handle, fetches, feed_dict, options, run_metadata)\u001b[0m\n\u001b[1;32m    906\u001b[0m     \u001b[0;32mif\u001b[0m \u001b[0mfinal_fetches\u001b[0m \u001b[0;32mor\u001b[0m \u001b[0mfinal_targets\u001b[0m\u001b[0;34m:\u001b[0m\u001b[0;34m\u001b[0m\u001b[0m\n\u001b[1;32m    907\u001b[0m       results = self._do_run(handle, final_targets, final_fetches,\n\u001b[0;32m--> 908\u001b[0;31m                              feed_dict_string, options, run_metadata)\n\u001b[0m\u001b[1;32m    909\u001b[0m     \u001b[0;32melse\u001b[0m\u001b[0;34m:\u001b[0m\u001b[0;34m\u001b[0m\u001b[0m\n\u001b[1;32m    910\u001b[0m       \u001b[0mresults\u001b[0m \u001b[0;34m=\u001b[0m \u001b[0;34m[\u001b[0m\u001b[0;34m]\u001b[0m\u001b[0;34m\u001b[0m\u001b[0m\n",
      "\u001b[0;32m/usr/local/lib/python2.7/dist-packages/tensorflow/python/client/session.pyc\u001b[0m in \u001b[0;36m_do_run\u001b[0;34m(self, handle, target_list, fetch_list, feed_dict, options, run_metadata)\u001b[0m\n\u001b[1;32m    956\u001b[0m     \u001b[0;32mif\u001b[0m \u001b[0mhandle\u001b[0m \u001b[0;32mis\u001b[0m \u001b[0mNone\u001b[0m\u001b[0;34m:\u001b[0m\u001b[0;34m\u001b[0m\u001b[0m\n\u001b[1;32m    957\u001b[0m       return self._do_call(_run_fn, self._session, feed_dict, fetch_list,\n\u001b[0;32m--> 958\u001b[0;31m                            target_list, options, run_metadata)\n\u001b[0m\u001b[1;32m    959\u001b[0m     \u001b[0;32melse\u001b[0m\u001b[0;34m:\u001b[0m\u001b[0;34m\u001b[0m\u001b[0m\n\u001b[1;32m    960\u001b[0m       return self._do_call(_prun_fn, self._session, handle, feed_dict,\n",
      "\u001b[0;32m/usr/local/lib/python2.7/dist-packages/tensorflow/python/client/session.pyc\u001b[0m in \u001b[0;36m_do_call\u001b[0;34m(self, fn, *args)\u001b[0m\n\u001b[1;32m    963\u001b[0m   \u001b[0;32mdef\u001b[0m \u001b[0m_do_call\u001b[0m\u001b[0;34m(\u001b[0m\u001b[0mself\u001b[0m\u001b[0;34m,\u001b[0m \u001b[0mfn\u001b[0m\u001b[0;34m,\u001b[0m \u001b[0;34m*\u001b[0m\u001b[0margs\u001b[0m\u001b[0;34m)\u001b[0m\u001b[0;34m:\u001b[0m\u001b[0;34m\u001b[0m\u001b[0m\n\u001b[1;32m    964\u001b[0m     \u001b[0;32mtry\u001b[0m\u001b[0;34m:\u001b[0m\u001b[0;34m\u001b[0m\u001b[0m\n\u001b[0;32m--> 965\u001b[0;31m       \u001b[0;32mreturn\u001b[0m \u001b[0mfn\u001b[0m\u001b[0;34m(\u001b[0m\u001b[0;34m*\u001b[0m\u001b[0margs\u001b[0m\u001b[0;34m)\u001b[0m\u001b[0;34m\u001b[0m\u001b[0m\n\u001b[0m\u001b[1;32m    966\u001b[0m     \u001b[0;32mexcept\u001b[0m \u001b[0merrors\u001b[0m\u001b[0;34m.\u001b[0m\u001b[0mOpError\u001b[0m \u001b[0;32mas\u001b[0m \u001b[0me\u001b[0m\u001b[0;34m:\u001b[0m\u001b[0;34m\u001b[0m\u001b[0m\n\u001b[1;32m    967\u001b[0m       \u001b[0mmessage\u001b[0m \u001b[0;34m=\u001b[0m \u001b[0mcompat\u001b[0m\u001b[0;34m.\u001b[0m\u001b[0mas_text\u001b[0m\u001b[0;34m(\u001b[0m\u001b[0me\u001b[0m\u001b[0;34m.\u001b[0m\u001b[0mmessage\u001b[0m\u001b[0;34m)\u001b[0m\u001b[0;34m\u001b[0m\u001b[0m\n",
      "\u001b[0;32m/usr/local/lib/python2.7/dist-packages/tensorflow/python/client/session.pyc\u001b[0m in \u001b[0;36m_run_fn\u001b[0;34m(session, feed_dict, fetch_list, target_list, options, run_metadata)\u001b[0m\n\u001b[1;32m    945\u001b[0m         return tf_session.TF_Run(session, options,\n\u001b[1;32m    946\u001b[0m                                  \u001b[0mfeed_dict\u001b[0m\u001b[0;34m,\u001b[0m \u001b[0mfetch_list\u001b[0m\u001b[0;34m,\u001b[0m \u001b[0mtarget_list\u001b[0m\u001b[0;34m,\u001b[0m\u001b[0;34m\u001b[0m\u001b[0m\n\u001b[0;32m--> 947\u001b[0;31m                                  status, run_metadata)\n\u001b[0m\u001b[1;32m    948\u001b[0m \u001b[0;34m\u001b[0m\u001b[0m\n\u001b[1;32m    949\u001b[0m     \u001b[0;32mdef\u001b[0m \u001b[0m_prun_fn\u001b[0m\u001b[0;34m(\u001b[0m\u001b[0msession\u001b[0m\u001b[0;34m,\u001b[0m \u001b[0mhandle\u001b[0m\u001b[0;34m,\u001b[0m \u001b[0mfeed_dict\u001b[0m\u001b[0;34m,\u001b[0m \u001b[0mfetch_list\u001b[0m\u001b[0;34m)\u001b[0m\u001b[0;34m:\u001b[0m\u001b[0;34m\u001b[0m\u001b[0m\n",
      "\u001b[0;31mKeyboardInterrupt\u001b[0m: "
     ]
    }
   ],
   "source": [
    "def fetch_data(sess, dset):\n",
    "    splt = sess.run([dset])\n",
    "    return np.reshape(splt,[-1,n_input])\n",
    "\n",
    "# Launch the graph\n",
    "with tf.Session() as sess:\n",
    "    sess.run(init)\n",
    "    coord = tf.train.Coordinator()\n",
    "    threads = tf.train.start_queue_runners(coord=coord)\n",
    "    total_batch = int(3604/batch_size)        \n",
    "    # Training cycle \n",
    "    # after 70 cycles loss chart goes flat\n",
    "    for epoch in range(70):\n",
    "        # Loop over all batches\n",
    "        for i in range(total_batch):\n",
    "            splt = fetch_data(sess, train)\n",
    "            _ = sess.run([optimizer], feed_dict={X: splt})\n",
    "                                    \n",
    "        # Display logs per epoch step\n",
    "        if epoch % display_step == 0:\n",
    "            splt = fetch_data(sess, valid)\n",
    "            status,result = tdb.debug([loss, ploss], feed_dict={X: splt}, breakpoints=None, break_immediately=False, session=sess)\n",
    "            print('loss: %f' % (result[0]))                                    \n",
    "            status,result = tdb.debug([py_pred, p0, p1], feed_dict={X: splt[9:15]}, breakpoints=None, break_immediately=False, session=sess)            \n",
    "\n",
    "    print(\"You know what? I've Learned something today...\")    \n",
    "        \n",
    "    coord.request_stop()\n",
    "    coord.join(threads)"
   ]
  },
  {
   "cell_type": "code",
   "execution_count": null,
   "metadata": {
    "collapsed": true
   },
   "outputs": [],
   "source": []
  }
 ],
 "metadata": {
  "kernelspec": {
   "display_name": "Python 2",
   "language": "python",
   "name": "python2"
  },
  "language_info": {
   "codemirror_mode": {
    "name": "ipython",
    "version": 2
   },
   "file_extension": ".py",
   "mimetype": "text/x-python",
   "name": "python",
   "nbconvert_exporter": "python",
   "pygments_lexer": "ipython2",
   "version": "2.7.12"
  }
 },
 "nbformat": 4,
 "nbformat_minor": 1
}
